{
 "cells": [
  {
   "cell_type": "code",
   "execution_count": null,
   "metadata": {},
   "outputs": [],
   "source": []
  },
  {
   "cell_type": "markdown",
   "metadata": {},
   "source": [
    "Implementation from https://www.codearmo.com/blog/pricing-options-monte-carlo-simulation-python"
   ]
  },
  {
   "cell_type": "markdown",
   "metadata": {},
   "source": [
    "$ln(S_{T}) = ln(S_{0}) + \\displaystyle \\int_{0}^t(\\mu - \\frac{\\sigma^2}{2})dt + \\displaystyle \\int_{0}^t \\sigma dW(t)$"
   ]
  },
  {
   "cell_type": "markdown",
   "metadata": {},
   "source": [
    "This is the formula used by codeArmo for the European options. ST is the price at time T, sigma is the annual volatility, mu is the risk free rate and is calculated by risk free rate - annual dividend rate, dW(t) is a the function that adds random noise. T is represented in fraction of a year. 1/2 is 6 months"
   ]
  },
  {
   "cell_type": "markdown",
   "metadata": {},
   "source": []
  }
 ],
 "metadata": {
  "kernelspec": {
   "display_name": "Python 3.10.7 64-bit",
   "language": "python",
   "name": "python3"
  },
  "language_info": {
   "name": "python",
   "version": "3.10.7"
  },
  "orig_nbformat": 4,
  "vscode": {
   "interpreter": {
    "hash": "26de051ba29f2982a8de78e945f0abaf191376122a1563185a90213a26c5da77"
   }
  }
 },
 "nbformat": 4,
 "nbformat_minor": 2
}
